{
 "cells": [
  {
   "cell_type": "code",
   "execution_count": 1,
   "metadata": {
    "scrolled": true
   },
   "outputs": [
    {
     "name": "stdout",
     "output_type": "stream",
     "text": [
      "tensorflow is already installed\n",
      "Installing opencv-python ...\n",
      "opencv-python installation completed\n",
      "Pillow is already installed\n"
     ]
    }
   ],
   "source": [
    "import subprocess\n",
    "import importlib\n",
    "import sys\n",
    "\n",
    "def install_package(module_name, package_name=None):\n",
    "    if package_name is None:\n",
    "        package_name = module_name\n",
    "    try:\n",
    "        importlib.import_module(module_name)\n",
    "        print(f\"{package_name} is already installed\")\n",
    "    except ImportError:\n",
    "        print(f\"Installing {package_name} ...\")\n",
    "        try:\n",
    "            subprocess.check_call([sys.executable, \"-m\", \"pip\", \"install\", package_name])\n",
    "            print(f\"{package_name} installation completed\")\n",
    "        except subprocess.CalledProcessError as e:\n",
    "            print(f\"{package_name} installation failed (exit code {e.returncode})\")\n",
    "\n",
    "install_package(\"tensorflow\")           \n",
    "install_package(\"cv2\", \"opencv-python\") \n",
    "install_package(\"PIL\", \"Pillow\")        "
   ]
  },
  {
   "cell_type": "code",
   "execution_count": 8,
   "metadata": {
    "scrolled": true
   },
   "outputs": [],
   "source": [
    "import tensorflow as tf\n",
    "import numpy as np\n",
    "import cv2\n",
    "import h5py\n",
    "from PIL import Image, ImageFont, ImageDraw"
   ]
  },
  {
   "cell_type": "code",
   "execution_count": 10,
   "metadata": {
    "scrolled": true
   },
   "outputs": [],
   "source": [
    "f = h5py.File(\"keras_model.h5\", mode=\"r+\")\n",
    "model_config_string = f.attrs.get(\"model_config\")\n",
    "if model_config_string.find('\"groups\": 1,') != -1:\n",
    "    model_config_string = model_config_string.replace('\"groups\": 1,', '')\n",
    "    f.attrs.modify('model_config', model_config_string)\n",
    "    f.flush()\n",
    "    model_config_string = f.attrs.get(\"model_config\")\n",
    "    assert model_config_string.find('\"groups\": 1,') == -1\n",
    "f.close()"
   ]
  },
  {
   "cell_type": "code",
   "execution_count": 12,
   "metadata": {
    "scrolled": true
   },
   "outputs": [
    {
     "name": "stderr",
     "output_type": "stream",
     "text": [
      "C:\\Users\\119hw\\anaconda3\\Lib\\site-packages\\keras\\src\\layers\\core\\dense.py:87: UserWarning: Do not pass an `input_shape`/`input_dim` argument to a layer. When using Sequential models, prefer using an `Input(shape)` object as the first layer in the model instead.\n",
      "  super().__init__(activity_regularizer=activity_regularizer, **kwargs)\n"
     ]
    },
    {
     "name": "stdout",
     "output_type": "stream",
     "text": [
      "비디오 입력에 오류가 있습니다.\n",
      "Error: Failed to capture image.\n"
     ]
    }
   ],
   "source": [
    "import platform\n",
    "import gc  # 가비지 컬렉터 모듈\n",
    "\n",
    "# Suppress scientific notation for clarity\n",
    "np.set_printoptions(suppress=True)\n",
    "\n",
    "# Load the Keras model and class names\n",
    "model = tf.keras.models.load_model(\"keras_Model.h5\", compile=False)\n",
    "class_names = [line.strip() for line in open(\"labels.txt\", \"r\", encoding='utf-8').readlines()]\n",
    "\n",
    "# Initialize video capture\n",
    "capture = cv2.VideoCapture(0)\n",
    "capture.set(cv2.CAP_PROP_FRAME_WIDTH, 320)\n",
    "capture.set(cv2.CAP_PROP_FRAME_HEIGHT, 240)\n",
    "\n",
    "if not capture.isOpened():\n",
    "    print(\"비디오 입력에 오류가 있습니다.\")\n",
    "    exit()\n",
    "\n",
    "# Define font path based on the operating system\n",
    "system_name = platform.system()\n",
    "\n",
    "if system_name == \"Windows\":\n",
    "    font_path = \"C:/Windows/Fonts/malgun.ttf\"\n",
    "elif system_name == \"Darwin\":\n",
    "    font_path = \"/Library/Fonts/AppleGothic.ttf\"\n",
    "else:\n",
    "    font_path = \"/usr/share/fonts/truetype/noto/NotoSansCJK-Regular.ttc\"\n",
    "\n",
    "# Load the font once outside the loop\n",
    "try:\n",
    "    font = ImageFont.truetype(font_path, 20)\n",
    "except IOError:\n",
    "    print(\"폰트를 찾을 수 없습니다. 기본 폰트를 사용합니다. 한글이 제대로 표시되지 않을 수 있습니다.\")\n",
    "    font = ImageFont.load_default()\n",
    "\n",
    "while True:\n",
    "    ret, frame = capture.read()\n",
    "    \n",
    "    if not ret:\n",
    "        print(\"Error: Failed to capture image.\")\n",
    "        break\n",
    "\n",
    "    # Exit on pressing 'x' or 'ESC'\n",
    "    key = cv2.waitKey(1) & 0xFF\n",
    "    if key == ord('x') or key == 27:\n",
    "        break\n",
    "\n",
    "    # Preprocess the frame for prediction\n",
    "    size = (224, 224)\n",
    "    img = cv2.resize(frame, size, interpolation=cv2.INTER_AREA)\n",
    "    img = img.astype(np.float32)\n",
    "    img = (img / 127.0) - 1  # Normalize to [-1, 1]\n",
    "    img = img.reshape((1, 224, 224, 3))\n",
    "\n",
    "    # Make prediction\n",
    "    prediction = model.predict(img)\n",
    "    index = np.argmax(prediction)\n",
    "    class_name = class_names[index]\n",
    "    confidence_score = prediction[0][index]\n",
    "\n",
    "    # Prepare text for display (한글 지원)\n",
    "    label_text = f\"{class_name[2:]}: {confidence_score * 100:.2f}%\"  # 필요에 따라 class_name 슬라이싱 조절\n",
    "\n",
    "    # Convert OpenCV image (BGR) to PIL image (RGB)\n",
    "    cv2_im_rgb = cv2.cvtColor(frame, cv2.COLOR_BGR2RGB)\n",
    "    pil_im = Image.fromarray(cv2_im_rgb)\n",
    "\n",
    "    # Initialize ImageDraw\n",
    "    draw = ImageDraw.Draw(pil_im)\n",
    "\n",
    "    # Define text position\n",
    "    text_position = (10, 10)  # 왼쪽 상단 위치 조절 가능\n",
    "\n",
    "    # Define text color (검은색)\n",
    "    text_color = (0, 0, 0)  # RGB\n",
    "\n",
    "    # Add text to the PIL image\n",
    "    draw.text(text_position, label_text, font=font, fill=text_color)\n",
    "\n",
    "    # Convert PIL image back to OpenCV image (BGR)\n",
    "    cv2_im_processed = cv2.cvtColor(np.array(pil_im), cv2.COLOR_RGB2BGR)\n",
    "\n",
    "    # Display the frame\n",
    "    cv2.imshow(\"VideoFrame\", cv2_im_processed)\n",
    "\n",
    "    # PIL 이미지와 관련 객체 해제\n",
    "    del pil_im\n",
    "    del draw\n",
    "    del cv2_im_rgb\n",
    "    gc.collect()  # 가비지 컬렉터\n",
    "\n",
    "# Release resources\n",
    "capture.release()\n",
    "cv2.destroyAllWindows()"
   ]
  },
  {
   "cell_type": "code",
   "execution_count": null,
   "metadata": {},
   "outputs": [],
   "source": []
  }
 ],
 "metadata": {
  "kernelspec": {
   "display_name": "teachablemachine",
   "language": "python",
   "name": "teachable"
  },
  "language_info": {
   "codemirror_mode": {
    "name": "ipython",
    "version": 3
   },
   "file_extension": ".py",
   "mimetype": "text/x-python",
   "name": "python",
   "nbconvert_exporter": "python",
   "pygments_lexer": "ipython3",
   "version": "3.12.4"
  }
 },
 "nbformat": 4,
 "nbformat_minor": 4
}
